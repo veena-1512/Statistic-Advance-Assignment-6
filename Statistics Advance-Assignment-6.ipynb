{
 "cells": [
  {
   "cell_type": "markdown",
   "id": "9ebde95d-f097-49e5-87ea-1c904a4504cb",
   "metadata": {},
   "source": [
    "Q1. Explain the assumptions required to use ANOVA and provide examples of violations that could impact the validity of the results."
   ]
  },
  {
   "cell_type": "markdown",
   "id": "0de7c7bd-780d-47ce-902a-77dced1aabef",
   "metadata": {},
   "source": [
    "ANOVA (Analysis of Variance) is a statistical method used to compare means among multiple groups simultaneously. It is based on several assumptions, and violating these assumptions can affect the validity of the results. Here are the key assumptions of ANOVA along with examples of violations:\n",
    "\n",
    "Independence: Observations within and between groups are independent of each other. Violation of this assumption can occur when there is dependence among observations, such as in repeated measures designs or clustered data.\n",
    "\n",
    "1. Example of violation: In a study comparing the effectiveness of different teaching methods on student performance, if students within the same class are assigned to different teaching methods, their performance may be correlated due to shared class characteristics.\n",
    "\n",
    "2. Normality: The residuals (the differences between observed and predicted values) are normally distributed within each group. While ANOVA is robust to violations of normality when sample sizes are large, significant departures from normality can still affect the accuracy of p-values and confidence intervals.\n",
    "\n",
    "3. Example of violation: In a study comparing the effect of a drug on blood pressure across different age groups, if the distribution of blood pressure within each age group is highly skewed, it may violate the normality assumption.\n",
    "\n",
    "4. Homogeneity of Variance (Homoscedasticity): The variance of the residuals is constant across all levels of the independent variable. This means that the spread of data points around the group means should be similar across all groups.\n",
    "\n",
    "5. Example of violation: In a study comparing the effects of different fertilizers on crop yield, if one fertilizer leads to highly variable yields across different plots while others do not, it violates the assumption of homogeneity of variance.\n",
    "\n",
    "6. Random Sampling: Observations are sampled randomly from the population. This assumption ensures that the sample is representative of the population and that the estimates obtained from the sample are unbiased.\n",
    "\n",
    "7. Example of violation: In a study examining the impact of a new therapy on depression, if participants are recruited non-randomly (e.g., volunteers), it may introduce selection bias and affect the generalizability of the findings."
   ]
  },
  {
   "cell_type": "markdown",
   "id": "06c19c7d-18f9-4ad5-8c74-9d3ff6093bf3",
   "metadata": {},
   "source": [
    "Q2. What are the three types of ANOVA, and in what situations would each be used?\n",
    "\n",
    "The three types of ANOVA are:\n",
    "\n",
    "1. One-Way ANOVA: This is used when you have one categorical independent variable (with three or more groups) and one continuous dependent variable. One-way ANOVA determines whether there are any statistically significant differences between the means of three or more independent (unrelated) groups.\n",
    "\n",
    "Example: A researcher wants to compare the effectiveness of three different teaching methods (traditional lecture, flipped classroom, and peer teaching) on student exam scores.\n",
    "\n",
    "2. Two-Way ANOVA: This is used when you have two categorical independent variables (factors) and one continuous dependent variable. It examines how the dependent variable is influenced by two different factors (independent variables) simultaneously.\n",
    "\n",
    "Example: A study wants to investigate the effects of both gender and treatment type on recovery time from a particular illness. The gender of the patients (male/female) and the type of treatment (medication A, medication B, and placebo) are the two independent variables, and recovery time is the dependent variable.\n",
    "\n",
    "3. Repeated Measures ANOVA: Also known as within-subjects ANOVA, this is used when the same subjects are measured at multiple time points or under multiple conditions. It compares the means of three or more related groups to determine if there are statistically significant differences between them.\n",
    "\n",
    "Example: A researcher measures participants' anxiety levels before and after they undergo three different relaxation techniques (deep breathing, meditation, and progressive muscle relaxation). The same participants are measured under all three conditions, and the researcher wants to determine if there are significant differences in anxiety levels across the three relaxation techniques.\n"
   ]
  },
  {
   "cell_type": "markdown",
   "id": "03899185-254f-49d1-a915-7f6dae310cd8",
   "metadata": {},
   "source": [
    "Q4. How would you calculate the total sum of squares (SST), explained sum of squares (SSE), and residual \n",
    "sum of squares (SSR) in a one-way ANOVA using Python?\n",
    "\n",
    "To calculate the Total Sum of Squares (SST), Explained Sum of Squares (SSE), and Residual Sum of Squares (SSR) in a one-way ANOVA using Python, you can utilize libraries such as NumPy and SciPy. Here's a basic example of how you can do this:"
   ]
  },
  {
   "cell_type": "code",
   "execution_count": 4,
   "id": "57451933-b9be-432e-a476-56405179e951",
   "metadata": {},
   "outputs": [],
   "source": [
    "import numpy as np\n",
    "import pandas as pd\n",
    "from scipy import stats\n",
    "\n",
    "# Example data\n",
    "group1 = np.array([5, 7, 9, 8, 10])\n",
    "group2 = np.array([6, 8, 7, 6, 9])\n",
    "group3 = np.array([9, 11, 10, 12, 13])\n",
    "\n",
    "# Combine data into a single array\n",
    "data = np.concatenate([group1, group2, group3])\n",
    "\n",
    "# Calculate overall mean\n",
    "overall_mean = np.mean(data)\n",
    "\n",
    "SST = np.sum((data - overall_mean) ** 2)\n",
    "\n",
    "# Calculate group means\n",
    "group_means = np.array([np.mean(group1), np.mean(group2), np.mean(group3)])\n",
    "\n",
    "# Calculate Explained Sum of Squares (SSE)\n",
    "SSE = np.sum((group_means - overall_mean) ** 2 * len(group1))\n",
    "\n",
    "# Calculate Residual Sum of Squares (SSR)\n",
    "SSR = SST - SSE"
   ]
  },
  {
   "cell_type": "code",
   "execution_count": 5,
   "id": "9773633b-18f7-415e-a5da-ce48d8ff9b2a",
   "metadata": {},
   "outputs": [
    {
     "name": "stdout",
     "output_type": "stream",
     "text": [
      "Total Sum of Squares (SST): 73.33333333333334\n",
      "Explained Sum of Squares (SSE): 41.733333333333334\n",
      "Residual Sum of Squares (SSR): 31.60000000000001\n"
     ]
    }
   ],
   "source": [
    "print(\"Total Sum of Squares (SST):\", SST)\n",
    "print(\"Explained Sum of Squares (SSE):\", SSE)\n",
    "print(\"Residual Sum of Squares (SSR):\", SSR)"
   ]
  },
  {
   "cell_type": "markdown",
   "id": "64369ced-2a34-40f3-9a6b-75d9f7b28738",
   "metadata": {},
   "source": [
    "Q5. In a two-way ANOVA, how would you calculate the main effects and interaction effects using Python?\n",
    "\n",
    "In a two-way ANOVA, you can calculate the main effects and interaction effects using Python by fitting an appropriate statistical model to your data. One common approach is to use the statsmodels library, which provides functionalities for performing various statistical analyses, including ANOVA. Below is an example of how you can calculate the main effects and interaction effects using Python:"
   ]
  },
  {
   "cell_type": "code",
   "execution_count": 1,
   "id": "f9b86c4d-335d-4894-8dfb-c6bda7a92497",
   "metadata": {},
   "outputs": [],
   "source": [
    "import numpy as np\n",
    "import pandas as pd\n",
    "import statsmodels.api as sm\n",
    "from statsmodels.formula.api import ols\n",
    "\n",
    "# Sample data for demonstration\n",
    "data = {\n",
    "    'A': ['A1', 'A1', 'A2', 'A2', 'A3', 'A3', 'A1', 'A1', 'A2', 'A2', 'A3', 'A3'],\n",
    "    'B': ['B1', 'B2', 'B1', 'B2', 'B1', 'B2', 'B1', 'B2', 'B1', 'B2', 'B1', 'B2'],\n",
    "    'Value': [10, 12, 14, 16, 18, 20, 15, 17, 19, 21, 22, 24]\n",
    "}\n",
    "\n",
    "df = pd.DataFrame(data)\n"
   ]
  },
  {
   "cell_type": "code",
   "execution_count": 2,
   "id": "15cc1450-17fc-4f49-b987-03478e6adfb1",
   "metadata": {},
   "outputs": [
    {
     "data": {
      "text/html": [
       "<div>\n",
       "<style scoped>\n",
       "    .dataframe tbody tr th:only-of-type {\n",
       "        vertical-align: middle;\n",
       "    }\n",
       "\n",
       "    .dataframe tbody tr th {\n",
       "        vertical-align: top;\n",
       "    }\n",
       "\n",
       "    .dataframe thead th {\n",
       "        text-align: right;\n",
       "    }\n",
       "</style>\n",
       "<table border=\"1\" class=\"dataframe\">\n",
       "  <thead>\n",
       "    <tr style=\"text-align: right;\">\n",
       "      <th></th>\n",
       "      <th>A</th>\n",
       "      <th>B</th>\n",
       "      <th>Value</th>\n",
       "    </tr>\n",
       "  </thead>\n",
       "  <tbody>\n",
       "    <tr>\n",
       "      <th>0</th>\n",
       "      <td>A1</td>\n",
       "      <td>B1</td>\n",
       "      <td>10</td>\n",
       "    </tr>\n",
       "    <tr>\n",
       "      <th>1</th>\n",
       "      <td>A1</td>\n",
       "      <td>B2</td>\n",
       "      <td>12</td>\n",
       "    </tr>\n",
       "    <tr>\n",
       "      <th>2</th>\n",
       "      <td>A2</td>\n",
       "      <td>B1</td>\n",
       "      <td>14</td>\n",
       "    </tr>\n",
       "    <tr>\n",
       "      <th>3</th>\n",
       "      <td>A2</td>\n",
       "      <td>B2</td>\n",
       "      <td>16</td>\n",
       "    </tr>\n",
       "    <tr>\n",
       "      <th>4</th>\n",
       "      <td>A3</td>\n",
       "      <td>B1</td>\n",
       "      <td>18</td>\n",
       "    </tr>\n",
       "    <tr>\n",
       "      <th>5</th>\n",
       "      <td>A3</td>\n",
       "      <td>B2</td>\n",
       "      <td>20</td>\n",
       "    </tr>\n",
       "    <tr>\n",
       "      <th>6</th>\n",
       "      <td>A1</td>\n",
       "      <td>B1</td>\n",
       "      <td>15</td>\n",
       "    </tr>\n",
       "    <tr>\n",
       "      <th>7</th>\n",
       "      <td>A1</td>\n",
       "      <td>B2</td>\n",
       "      <td>17</td>\n",
       "    </tr>\n",
       "    <tr>\n",
       "      <th>8</th>\n",
       "      <td>A2</td>\n",
       "      <td>B1</td>\n",
       "      <td>19</td>\n",
       "    </tr>\n",
       "    <tr>\n",
       "      <th>9</th>\n",
       "      <td>A2</td>\n",
       "      <td>B2</td>\n",
       "      <td>21</td>\n",
       "    </tr>\n",
       "    <tr>\n",
       "      <th>10</th>\n",
       "      <td>A3</td>\n",
       "      <td>B1</td>\n",
       "      <td>22</td>\n",
       "    </tr>\n",
       "    <tr>\n",
       "      <th>11</th>\n",
       "      <td>A3</td>\n",
       "      <td>B2</td>\n",
       "      <td>24</td>\n",
       "    </tr>\n",
       "  </tbody>\n",
       "</table>\n",
       "</div>"
      ],
      "text/plain": [
       "     A   B  Value\n",
       "0   A1  B1     10\n",
       "1   A1  B2     12\n",
       "2   A2  B1     14\n",
       "3   A2  B2     16\n",
       "4   A3  B1     18\n",
       "5   A3  B2     20\n",
       "6   A1  B1     15\n",
       "7   A1  B2     17\n",
       "8   A2  B1     19\n",
       "9   A2  B2     21\n",
       "10  A3  B1     22\n",
       "11  A3  B2     24"
      ]
     },
     "execution_count": 2,
     "metadata": {},
     "output_type": "execute_result"
    }
   ],
   "source": [
    "df"
   ]
  },
  {
   "cell_type": "code",
   "execution_count": 3,
   "id": "452ac4e0-284c-489a-ba19-c0952a53e158",
   "metadata": {},
   "outputs": [],
   "source": [
    "# Fit the two-way ANOVA model\n",
    "model = ols('Value ~ C(A) + C(B) + C(A):C(B)', data=df).fit()\n",
    "anova_table = sm.stats.anova_lm(model, typ=2)"
   ]
  },
  {
   "cell_type": "code",
   "execution_count": 4,
   "id": "1650907f-6a7c-4fad-b89b-2594761390d2",
   "metadata": {},
   "outputs": [
    {
     "name": "stdout",
     "output_type": "stream",
     "text": [
      "Main effect of A: 1.707070707070705\n",
      "Main effect of B: 0.18181818181818118\n",
      "Interaction effect: 1.2012200147683597e-30\n"
     ]
    }
   ],
   "source": [
    "# Extract main effects and interaction effects\n",
    "main_effect_A = anova_table['sum_sq']['C(A)'] / anova_table['sum_sq']['Residual']\n",
    "main_effect_B = anova_table['sum_sq']['C(B)'] / anova_table['sum_sq']['Residual']\n",
    "interaction_effect = anova_table['sum_sq']['C(A):C(B)'] / anova_table['sum_sq']['Residual']\n",
    "\n",
    "print(\"Main effect of A:\", main_effect_A)\n",
    "print(\"Main effect of B:\", main_effect_B)\n",
    "print(\"Interaction effect:\", interaction_effect)"
   ]
  },
  {
   "cell_type": "markdown",
   "id": "6b164f5b-5923-449c-b3ac-64a9f553cb69",
   "metadata": {},
   "source": [
    "Q6. Suppose you conducted a one-way ANOVA and obtained an F-statistic of 5.23 and a p-value of 0.02. \n",
    "What can you conclude about the differences between the groups, and how would you interpret these results?\n",
    "\n",
    "\n",
    "In a one-way ANOVA, the F-statistic tests the null hypothesis that the means of the groups are equal against the alternative hypothesis that at least one group mean is different. The associated p-value indicates the probability of observing such extreme results under the null hypothesis.\n",
    "\n",
    " Given an F-statistic of 5.23 and a p-value of 0.02:\n",
    "\n",
    "1. Interpretation of the F-statistic: The F-statistic measures the ratio of the variance between the groups (explained variance) to the variance within the groups (unexplained variance). A higher F-statistic suggests a larger difference between the group means relative to the variability within the groups.\n",
    "\n",
    "2. Interpretation of the p-value: The p-value represents the probability of observing the data if the null hypothesis (that all group means are equal) is true. A small p-value (typically less than the chosen significance level, often 0.05) suggests that the observed differences between the group means are unlikely to have occurred by random chance alone.\n",
    "\n"
   ]
  },
  {
   "cell_type": "markdown",
   "id": "6b1f54aa-56e4-405e-bd40-bd4bd07293b3",
   "metadata": {},
   "source": [
    "Q7. In a repeated measures ANOVA, how would you handle missing data, and what are the potential \n",
    "consequences of using different methods to handle missing data?\n",
    "\n",
    "Handling missing data in a repeated measures ANOVA is crucial for ensuring the validity and reliability of the results. There are several methods to handle missing data in repeated measures ANOVA, each with its own potential consequences:\n",
    "\n",
    "1. Complete Case Analysis (Listwise Deletion):\n",
    "\n",
    "In this approach, any case with missing data on any variable is completely excluded from the analysis.\n",
    "\n",
    "Pros: It is straightforward and easy to implement.\n",
    "\n",
    "Cons: It may lead to biased estimates and reduced statistical power, especially if the missing data are not missing completely at random (MCAR) and can introduce selection bias if data are systematically missing for certain groups.\n",
    "\n",
    "2. Mean Imputation:\n",
    "\n",
    "Missing values are replaced with the mean of the observed values for that variable.\n",
    "\n",
    "Pros: It maintains the sample size and is simple to implement.\n",
    "\n",
    "Cons: It can distort the variability of the data and underestimate standard errors. It assumes that the missing values have the same mean as the observed values, which may not be valid.\n",
    "\n",
    "3. Last Observation Carried Forward (LOCF):\n",
    "\n",
    "Missing values are replaced with the last observed value for that variable.\n",
    "\n",
    "Pros: It preserves the time order of observations and can be appropriate for longitudinal data with monotonic trends.\n",
    "\n",
    "Cons: It may not accurately reflect the true values of the missing data, particularly if the missing data are not missing at random (MAR). It can lead to biased estimates, especially if there is considerable variability over time.\n",
    "\n",
    "4. Multiple Imputation:\n",
    "\n",
    "Missing values are imputed multiple times based on observed data and a model for the missing data distribution. Multiple complete datasets are generated, and analyses are performed on each dataset separately, and then combined to produce overall estimates.\n",
    "\n",
    "Pros: It accounts for uncertainty due to missing data and provides more accurate parameter estimates and standard errors compared to other methods.\n",
    "\n",
    "Cons: It is computationally intensive and requires specifying a model for the missing data distribution, which may be challenging. The validity of the results depends on the appropriateness of the imputation model.\n",
    "\n",
    "5. Maximum Likelihood Estimation (MLE):\n",
    "\n",
    "Missing data are handled by estimating model parameters that maximize the likelihood of observing the available data.\n",
    "\n",
    "Pros: It provides unbiased estimates under the assumption that the data are missing at random (MAR) and can yield efficient estimates with complete data.\n",
    "\n",
    "Cons: It requires specifying a model for the missing data mechanism and may not perform well if the missing data mechanism is not accurately specified."
   ]
  },
  {
   "cell_type": "markdown",
   "id": "72429fe4-4c5c-4e42-98d4-405a4da44663",
   "metadata": {},
   "source": [
    "Q8.What are some common post-hoc tests used after ANOVA, and when would you use each one? Provide \n",
    "an example of a situation where a post-hoc test might be necessary."
   ]
  },
  {
   "cell_type": "markdown",
   "id": "5ab123d5-8f6f-43bb-ad3d-7d864c1eb839",
   "metadata": {},
   "source": [
    "After conducting an ANOVA and finding a statistically significant difference among group means, post-hoc tests are used to determine which specific groups differ from each other. Some common post-hoc tests include:\n",
    "\n",
    "1. Tukey's Honestly Significant Difference (Tukey HSD):\n",
    "\n",
    "This test compares all possible pairs of group means while controlling for Type I error rate. It is widely used when the sample sizes are equal across groups.\n",
    "\n",
    "Use Tukey's HSD when you have conducted a one-way ANOVA and want to compare all possible pairs of group means.\n",
    "\n",
    "2. Bonferroni Correction:\n",
    "\n",
    "Bonferroni correction adjusts the significance level for multiple comparisons by dividing the desired alpha level (e.g., 0.05) by the number of comparisons being made.\n",
    "Use Bonferroni correction when conducting multiple pairwise comparisons after ANOVA and want to control the family-wise error rate.\n",
    "\n",
    "3. Sidak Correction:\n",
    "\n",
    "Similar to Bonferroni correction, Sidak correction also adjusts the significance level for multiple comparisons, but it typically results in slightly less conservative p-values.\n",
    "Use Sidak correction when conducting multiple pairwise comparisons after ANOVA and want to control the family-wise error rate with a less conservative approach compared to Bonferroni.\n",
    "\n",
    "4. Dunnett's Test:\n",
    "\n",
    "Dunnett's test compares each treatment group mean with a control group mean while controlling the family-wise error rate.\n",
    "Use Dunnett's test when you have a control group and want to compare it with multiple treatment groups after ANOVA.\n",
    "\n",
    "5. Holm-Bonferroni Method:\n",
    "\n",
    "The Holm-Bonferroni method is a step-down procedure that adjusts the significance level sequentially for multiple comparisons, providing a balance between control of the family-wise error rate and power.\n",
    "Use the Holm-Bonferroni method when conducting multiple pairwise comparisons after ANOVA and want a compromise between the stringent control of the family-wise error rate and power."
   ]
  },
  {
   "cell_type": "markdown",
   "id": "48c2d652-8928-460f-96e3-95e6ef16b73a",
   "metadata": {},
   "source": [
    "Q9. To conduct a one-way ANOVA in Python to compare the mean weight loss of three diets (A, B, and C) using the provided data, you can use the scipy.stats module. Here's how you can do it:"
   ]
  },
  {
   "cell_type": "code",
   "execution_count": 5,
   "id": "f88024ce-9934-4b67-ba90-15c607586e4e",
   "metadata": {},
   "outputs": [],
   "source": [
    "import numpy as np\n",
    "from scipy.stats import f_oneway\n",
    "\n",
    "# Weight loss data for each diet\n",
    "diet_A = np.array([1.5, 2.0, 1.8, 1.3, 1.0, 1.9, 2.5, 1.7, 2.2, 1.6,\n",
    "                   2.1, 1.4, 1.8, 1.9, 2.3, 1.6, 1.5, 1.8, 2.0, 1.7,\n",
    "                   1.6, 2.1, 2.2, 1.8, 1.9, 2.0, 1.5, 1.6, 2.3, 1.8,\n",
    "                   2.0, 1.7, 1.9, 1.6, 2.1, 2.4, 2.2, 1.8, 2.3, 1.9,\n",
    "                   1.6, 1.7, 1.8, 2.0, 2.1, 2.2, 1.9, 1.8, 1.7, 2.3])\n",
    "\n",
    "diet_B = np.array([1.2, 1.8, 1.6, 1.5, 1.3, 1.4, 1.9, 1.6, 2.0, 1.7,\n",
    "                   1.3, 1.5, 1.8, 1.6, 1.4, 1.7, 1.9, 1.2, 1.5, 1.3,\n",
    "                   1.6, 1.8, 1.7, 1.3, 1.4, 1.9, 1.6, 1.2, 1.5, 1.3,\n",
    "                   1.4, 1.8, 1.7, 1.5, 1.9, 1.6, 1.3, 1.7, 1.4, 1.2,\n",
    "                   1.5, 1.8, 1.3, 1.6, 1.4, 1.7, 1.9, 1.2, 1.5, 1.3])\n",
    "\n",
    "diet_C = np.array([1.0, 1.4, 1.2, 1.5, 1.8, 1.3, 1.6, 1.1, 1.7, 1.2,\n",
    "                   1.5, 1.9, 1.6, 1.3, 1.0, 1.8, 1.4, 1.2, 1.6, 1.3,\n",
    "                   1.7, 1.4, 1.9, 1.1, 1.5, 1.3, 1.8, 1.2, 1.6, 1.4,\n",
    "                   1.7, 1.3, 1.0, 1.2, 1.5, 1.9, 1.6, 1.3, 1.8, 1.4,\n",
    "                   1.7, 1.1, 1.4, 1.6, 1.9, 1.3, 1.0, 1.5, 1.2, 1.7])\n",
    "\n",
    "# Perform one-way ANOVA\n",
    "F_statistic, p_value = f_oneway(diet_A, diet_B, diet_C)\n"
   ]
  },
  {
   "cell_type": "code",
   "execution_count": 6,
   "id": "094829e8-80bb-41d5-9b65-2f0af5813730",
   "metadata": {},
   "outputs": [
    {
     "name": "stdout",
     "output_type": "stream",
     "text": [
      "F-statistic: 33.84824281150159\n",
      "p-value: 8.10384907525166e-13\n"
     ]
    }
   ],
   "source": [
    "print(\"F-statistic:\", F_statistic)\n",
    "print(\"p-value:\", p_value)"
   ]
  },
  {
   "cell_type": "markdown",
   "id": "b7e84a66-6518-426c-8153-48517b186978",
   "metadata": {},
   "source": [
    "Q10.  A company wants to know if there are any significant differences in the average time it takes to \n",
    "complete a task using three different software programs: Program A, Program B, and Program C. They randomly assign 30 employees to one of the programs and record the time it takes each employee to complete the task. Conduct a two-way ANOVA using Python to determine if there are any main effects or interaction effects between the software programs and employee experience level (novice vs. experienced). Report the F-statistics and p-values, and interpret the results.?"
   ]
  },
  {
   "cell_type": "code",
   "execution_count": null,
   "id": "460acbf8-b6c0-4a45-8de5-f2ef89b3f772",
   "metadata": {},
   "outputs": [],
   "source": []
  },
  {
   "cell_type": "code",
   "execution_count": null,
   "id": "30ff3ac5-9195-4a54-b720-4a89dcfb79c3",
   "metadata": {},
   "outputs": [],
   "source": []
  }
 ],
 "metadata": {
  "kernelspec": {
   "display_name": "Python 3 (ipykernel)",
   "language": "python",
   "name": "python3"
  },
  "language_info": {
   "codemirror_mode": {
    "name": "ipython",
    "version": 3
   },
   "file_extension": ".py",
   "mimetype": "text/x-python",
   "name": "python",
   "nbconvert_exporter": "python",
   "pygments_lexer": "ipython3",
   "version": "3.10.8"
  }
 },
 "nbformat": 4,
 "nbformat_minor": 5
}
